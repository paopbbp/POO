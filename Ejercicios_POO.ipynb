{
  "nbformat": 4,
  "nbformat_minor": 0,
  "metadata": {
    "colab": {
      "provenance": []
    },
    "kernelspec": {
      "name": "python3",
      "display_name": "Python 3"
    },
    "language_info": {
      "name": "python"
    }
  },
  "cells": [
    {
      "cell_type": "markdown",
      "source": [
        "## Ejercicios POO"
      ],
      "metadata": {
        "id": "TgBu7yBbjvVR"
      }
    },
    {
      "cell_type": "markdown",
      "source": [],
      "metadata": {
        "id": "jA-RrIxhvsm-"
      }
    },
    {
      "cell_type": "markdown",
      "source": [
        "\n",
        "\n",
        "1.   Describe cuáles son las diferencias entre clases y objetos.\n",
        "2. Describe por qué usamos self como primer argumento en los métodos.\n",
        "3. ¿Qué es un constructor? ¿Y por qué lo usamos?\n",
        "4. Describir las diferencias entre los atributos de clase y de instancia.\n",
        "5. La siguiente es una definición de la clase Punto que toma las coordenadas x, y. Agregue un método plot_point que trace la posición del punto.\n",
        "6. Documenta y prueba con algunos puntos el siguiente código:\n",
        "\n",
        "```\n",
        "#\n",
        "import matplotlib.pyplot as plt\n",
        "\n",
        "class Punto():\n",
        "    def __init__(self, x, y):\n",
        "        self.x = x\n",
        "        self.y = y\n",
        "\n",
        "    def plot(self):\n",
        "        plt.scatter(self.x, self.y, color='red', marker='o')\n",
        "        plt.xlabel('X-axis')\n",
        "        plt.ylabel('Y-axis')\n",
        "        plt.title('Gráfica del punto')\n",
        "        plt.grid(True)\n",
        "        plt.show()\n",
        "```\n",
        "\n",
        "7. Cree una clase para modelar algún objeto del mundo real y cree una nueva clase para heredar de él. Un ejemplo puede ser el siguiente. Deberías usar un ejemplo diferente y usar tantas cosas que aprendimos como sea posible.\n",
        "\n",
        "\n",
        "\n",
        "```\n",
        "# class Carro():\n",
        "    def __init__(self, marca, color):\n",
        "        self.marca = marca\n",
        "        self.color = color\n",
        "    \n",
        "    def encender(self):\n",
        "        print('!Listo para conducir!')\n",
        "        \n",
        "class Camioneta(Carro):\n",
        "    def __init__(self, marca, color, tamaño):\n",
        "        super().__init__(marca, color)\n",
        "        self.tamaño = tamaño\n",
        "        \n",
        "    def encender(self, llave):\n",
        "        if llave == 'llave_camioneta':\n",
        "            print('¡Listo para conducir!')\n",
        "        else:\n",
        "            print('La llave no es la correcta')\n",
        "            \n",
        "    def apagar(self, apagar):\n",
        "        if apagar:\n",
        "            print('¡El motor está apagado!')\n",
        "        else:\n",
        "            print('¡Sigo conduciendo!')\n",
        "\n",
        "```\n",
        "\n",
        "\n",
        "\n"
      ],
      "metadata": {
        "id": "OlqRnXzXhqwb"
      }
    },
    {
      "cell_type": "markdown",
      "source": [
        "\n",
        "\n",
        "1.   Describe cuáles son las diferencias entre clases y objetos:\n",
        "Clase:Una clase es una plantilla que define las características comunes y el comportamiento de un conjunto de objetos. Es una abstracción que describe cómo se deben crear los objetos.\n",
        "   - Objeto: Un objeto es una instancia específica de una clase. Representa una entidad concreta y tiene valores específicos para sus atributos, así como comportamientos definidos por la clase.\n",
        "2. Describe por qué usamos self como primer argumento en los métodos.\n",
        "\n",
        " el término `self` se utiliza como el primer parámetro de los métodos de una clase.\n",
        "   - `self` es una referencia a la instancia actual de la clase. Permite acceder y manipular los atributos y métodos de esa instancia dentro de los métodos de la clase.\n",
        "\n",
        "3. ¿Qué es un constructor? ¿Y por qué lo usamos?\n",
        "Un constructor es un método especial en una clase que se llama automáticamente cuando se crea una nueva instancia de la clase.\n",
        "En Python, el constructor se llama __init__. Se utiliza para inicializar los atributos de la instancia con valores específicos.\n",
        "El constructor es crucial para garantizar que un objeto tenga un estado inicial coherente al ser creado.\n",
        "\n",
        "4. Describir las diferencias entre los atributos de clase y de instancia\n",
        "- Atributos de Clase:\n",
        "     - Compartidos por todas las instancias de la clase.\n",
        "     - Se definen fuera de los métodos, generalmente al principio de la clase.\n",
        "     - Útiles para almacenar información que es común a todas las instancias de la clase.\n",
        "\n",
        "   - Atributos de Instancia:\n",
        "     - Pertenecen a una instancia específica de la clase.\n",
        "     - Se definen dentro del método constructor (`__init__`).\n",
        "     - Cada instancia tiene su propia copia del atributo con valores independientes de otras instancias.\n",
        "\n",
        "\n",
        "5. La siguiente es una definición de la clase Punto que toma las coordenadas x, y. Agregue un método plot_point que trace la posición del punto."
      ],
      "metadata": {
        "id": "ewCpVBvZx5ZL"
      }
    },
    {
      "cell_type": "code",
      "source": [
        "import matplotlib.pyplot as plt\n",
        "\n",
        "class Punto:\n",
        "    def __init__(self, x, y):\n",
        "        self.x = x\n",
        "        self.y = y\n",
        "\n",
        "    def plot_point(self):\n",
        "        plt.scatter(self.x, self.y, color='red')\n",
        "        plt.xlabel('Coordenada X')\n",
        "        plt.ylabel('Coordenada Y')\n",
        "        plt.title('Gráfico de Punto')\n",
        "        plt.show()\n",
        "\n",
        "p = Punto(2, 3)\n",
        "p.plot_point()\n",
        "\n"
      ],
      "metadata": {
        "id": "CZcasBapy-jg",
        "outputId": "a91498ad-a647-48a6-971a-2d6c6bf30bfc",
        "colab": {
          "base_uri": "https://localhost:8080/",
          "height": 472
        }
      },
      "execution_count": 3,
      "outputs": [
        {
          "output_type": "display_data",
          "data": {
            "text/plain": [
              "<Figure size 640x480 with 1 Axes>"
            ],
            "image/png": "[encoded data removed]"
          },
          "metadata": {}
        }
      ]
    },
    {
      "cell_type": "markdown",
      "source": [
        "6. Documenta y prueba con algunos puntos el siguiente código:\n",
        "\n",
        "import matplotlib.pyplot as plt\n",
        "\n",
        "class Punto():\n",
        "    def __init__(self, x, y):\n",
        "        \n",
        "       \"Constructor de la clase Punto.\"\n",
        "        Parámetros:\n",
        "        - x (float): Coordenada en el eje X.\n",
        "        - y (float): Coordenada en el eje Y.\n",
        "        \"\"\"\n",
        "        self.x = x\n",
        "        self.y = y\n",
        "\n",
        "    definir plot(self):\n",
        "        \"\"\"\n",
        "        Método para trazar el punto en un gráfico de dispersión.\n",
        "        Utiliza matplotlib para crear el gráfico.\n",
        "        \"\"\"\n",
        "        # Configurar el gráfico de dispersión para mostrar el punto en rojo\n",
        "        plt.scatter(self.x, self.y, color='red', marker='o')\n",
        "\n",
        "        # PONER etiquetas y título del gráfico\n",
        "        plt.xlabel('Eje X')\n",
        "        plt.ylabel('Eje Y')\n",
        "        plt.title('Gráfica del Punto')\n",
        "\n",
        "        # Mostrar la cuadrícula en el gráfico\n",
        "        plt.grid(True)\n",
        "\n",
        "        # Mostrar el gráfico\n",
        "        plt.show()\n",
        "\n",
        "# Ejemplo de uso:\n",
        "# Crear un punto con coordenadas x=2, y=3\n",
        "mi_punto = Punto(2, 3)\n",
        "\n",
        "# Llamar al método plot para trazar la posición del punto\n",
        "mi_punto.plot()"
      ],
      "metadata": {
        "id": "4WfUiWo20l-Q"
      }
    },
    {
      "cell_type": "markdown",
      "source": [],
      "metadata": {
        "id": "rAeeJmzo02zg"
      }
    },
    {
      "cell_type": "markdown",
      "source": [
        "6. Cree una clase para modelar algún objeto del mundo real y cree una nueva clase para heredar de él. Un ejemplo puede ser el siguiente. Deberías usar un ejemplo diferente y usar tantas cosas que aprendimos como sea posible.\n"
      ],
      "metadata": {
        "id": "7fv_soVU0-el"
      }
    },
    {
      "cell_type": "code",
      "source": [
        "class Vehiculo:\n",
        "    def __init__(self, marca, modelo, color):\n",
        "        \"\"\"\n",
        "        Constructor de la clase Vehiculo.\n",
        "\n",
        "        Parámetros:\n",
        "        - marca (str): Marca del vehículo.\n",
        "        - modelo (str): Modelo del vehículo.\n",
        "        - color (str): Color del vehículo.\n",
        "        \"\"\"\n",
        "        self.marca = marca\n",
        "        self.modelo = modelo\n",
        "        self.color = color\n",
        "        self.encendido = False\n",
        "\n",
        "    def encender(self):\n",
        "        \"\"\"\n",
        "        Método para encender el vehículo.\n",
        "        \"\"\"\n",
        "        if not self.encendido:\n",
        "            print(f\"{self.marca} {self.modelo} ha sido encendido.\")\n",
        "            self.encendido = True\n",
        "        else:\n",
        "            print(\"El vehículo ya está encendido.\")\n",
        "\n",
        "    def apagar(self):\n",
        "        \"\"\"\n",
        "        Método para apagar el vehículo.\n",
        "        \"\"\"\n",
        "        if self.encendido:\n",
        "            print(f\"{self.marca} {self.modelo} ha sido apagado.\")\n",
        "            self.encendido = False\n",
        "        else:\n",
        "            print(\"El vehículo ya está apagado.\")\n",
        "\n",
        "# Creamos una nueva clase, AutoElectrico, que hereda de la clase Vehiculo\n",
        "class AutoElectrico(Vehiculo):\n",
        "    def __init__(self, marca, modelo, color, capacidad_bateria):\n",
        "        \"\"\"\n",
        "        Constructor de la clase AutoElectrico.\n",
        "\n",
        "        Parámetros:\n",
        "        - capacidad_bateria (int): Capacidad de la batería en k/h.\n",
        "        \"\"\"\n",
        "        #constructor de la clase base (Vehiculo)\n",
        "        super().__init__(marca, modelo, color)\n",
        "        self.capacidad_bateria = capacidad_bateria\n",
        "        self.carga_actual = 0\n",
        "\n",
        "    def cargar_bateria(self, cantidad):\n",
        "        \"\"\"\n",
        "        Método para cargar la batería del auto eléctrico.\n",
        "\n",
        "        Parámetros:\n",
        "        - cantidad (int): Cantidad de carga a agregar a la batería.\n",
        "        \"\"\"\n",
        "        if self.encendido:\n",
        "            print(\"¡No puedes cargar la batería mientras el auto está encendido!\")\n",
        "        else:\n",
        "            self.carga_actual = min(self.carga_actual + cantidad, self.capacidad_bateria)\n",
        "        print (f\"Batería cargada. Carga actual: {self.carga_actual}/{self.capacidad_bateria} kWh.\")\n",
        "\n",
        "# Ejemplo\n",
        "mi_auto = AutoElectrico(marca=\"Tesla\", modelo=\"Model S\", color=\"Negro\", capacidad_bateria=75)\n",
        "\n",
        "\n",
        "mi_auto.encender()\n",
        "mi_auto.cargar_bateria(50)\n",
        "\n",
        "mi_auto.apagar()\n"
      ],
      "metadata": {
        "id": "HMf1f1K24yfA",
        "outputId": "abc95739-ef99-4f33-e078-1badcafa68f1",
        "colab": {
          "base_uri": "https://localhost:8080/"
        }
      },
      "execution_count": 7,
      "outputs": [
        {
          "output_type": "stream",
          "name": "stdout",
          "text": [
            "Tesla Model S ha sido encendido.\n",
            "¡No puedes cargar la batería mientras el auto está encendido!\n",
            "Batería cargada. Carga actual: 0/75 kWh.\n",
            "Tesla Model S ha sido apagado.\n"
          ]
        }
      ]
    },
    {
      "cell_type": "code",
      "source": [],
      "metadata": {
        "id": "Y06b3exOz0us"
      },
      "execution_count": null,
      "outputs": []
    },
    {
      "cell_type": "markdown",
      "source": [],
      "metadata": {
        "id": "iCgTrUcL0A6u"
      }
    },
    {
      "cell_type": "markdown",
      "source": [
        "\n"
      ],
      "metadata": {
        "id": "HIKY-NYTx0Pl"
      }
    },
    {
      "cell_type": "code",
      "source": [],
      "metadata": {
        "id": "7skCcYA0icoq"
      },
      "execution_count": null,
      "outputs": []
    }
  ]
}