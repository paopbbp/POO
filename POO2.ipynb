{
  "nbformat": 4,
  "nbformat_minor": 0,
  "metadata": {
    "colab": {
      "provenance": []
    },
    "kernelspec": {
      "name": "python3",
      "display_name": "Python 3"
    },
    "language_info": {
      "name": "python"
    }
  },
  "cells": [
    {
      "cell_type": "code",
      "execution_count": null,
      "metadata": {
        "id": "XQS9o_R1RaaX"
      },
      "outputs": [],
      "source": []
    },
    {
      "cell_type": "markdown",
      "source": [
        "Listas"
      ],
      "metadata": {
        "id": "oF2t6LUXTcWU"
      }
    },
    {
      "cell_type": "code",
      "source": [
        "# Vamos a generar una lista vacía\n",
        "\n",
        "L=[]\n",
        "\n",
        "range(10)"
      ],
      "metadata": {
        "id": "BvbKBTDpTl7e"
      },
      "execution_count": null,
      "outputs": []
    },
    {
      "cell_type": "code",
      "source": [
        "for i in range(10):\n",
        "  print (i)"
      ],
      "metadata": {
        "colab": {
          "base_uri": "https://localhost:8080/"
        },
        "id": "Pf-6es_OVkVq",
        "outputId": "e9138243-6c87-43e4-fc63-8a939ab7a145"
      },
      "execution_count": 1,
      "outputs": [
        {
          "output_type": "stream",
          "name": "stdout",
          "text": [
            "0\n",
            "1\n",
            "2\n",
            "3\n",
            "4\n",
            "5\n",
            "6\n",
            "7\n",
            "8\n",
            "9\n"
          ]
        }
      ]
    },
    {
      "cell_type": "code",
      "source": [
        "L=[1,2,3,4]\n",
        "L"
      ],
      "metadata": {
        "colab": {
          "base_uri": "https://localhost:8080/"
        },
        "id": "J1aopRxYWNHl",
        "outputId": "17e15e9d-adf1-4bf7-ae23-04493213c544"
      },
      "execution_count": 2,
      "outputs": [
        {
          "output_type": "execute_result",
          "data": {
            "text/plain": [
              "[1, 2, 3, 4]"
            ]
          },
          "metadata": {},
          "execution_count": 2
        }
      ]
    },
    {
      "cell_type": "code",
      "source": [
        "L.append(6)\n",
        "L"
      ],
      "metadata": {
        "colab": {
          "base_uri": "https://localhost:8080/"
        },
        "id": "u-r8H4VdWzTT",
        "outputId": "a56786ce-26fb-4d6b-da61-d4c4eb327bba"
      },
      "execution_count": 10,
      "outputs": [
        {
          "output_type": "execute_result",
          "data": {
            "text/plain": [
              "[1, 2, 3, 4, 5, 6, 6, 6]"
            ]
          },
          "metadata": {},
          "execution_count": 10
        }
      ]
    },
    {
      "cell_type": "code",
      "source": [
        "for i in range (10):\n",
        "  print (i)"
      ],
      "metadata": {
        "colab": {
          "base_uri": "https://localhost:8080/"
        },
        "id": "CeJIuuvcWWyj",
        "outputId": "768b734e-fe93-447a-c5d0-af720d84801b"
      },
      "execution_count": 7,
      "outputs": [
        {
          "output_type": "stream",
          "name": "stdout",
          "text": [
            "0\n",
            "1\n",
            "2\n",
            "3\n",
            "4\n",
            "5\n",
            "6\n",
            "7\n",
            "8\n",
            "9\n"
          ]
        }
      ]
    },
    {
      "cell_type": "markdown",
      "source": [
        "## Listas por comprensión\n"
      ],
      "metadata": {
        "id": "Ote4R4wLZ7Us"
      }
    },
    {
      "cell_type": "code",
      "source": [
        "type([])"
      ],
      "metadata": {
        "colab": {
          "base_uri": "https://localhost:8080/"
        },
        "id": "9w6XnZSIaGMj",
        "outputId": "42ffff7f-c65a-4ead-a6c0-65ad705a20f2"
      },
      "execution_count": 11,
      "outputs": [
        {
          "output_type": "execute_result",
          "data": {
            "text/plain": [
              "list"
            ]
          },
          "metadata": {},
          "execution_count": 11
        }
      ]
    },
    {
      "cell_type": "code",
      "source": [
        "len([2,4,6,8])"
      ],
      "metadata": {
        "colab": {
          "base_uri": "https://localhost:8080/"
        },
        "id": "CyXwYT7sacti",
        "outputId": "3a101f1f-1535-45c5-8694-9c3f04dbfaa4"
      },
      "execution_count": 14,
      "outputs": [
        {
          "output_type": "execute_result",
          "data": {
            "text/plain": [
              "4"
            ]
          },
          "metadata": {},
          "execution_count": 14
        }
      ]
    },
    {
      "cell_type": "code",
      "source": [
        "np.random.randint(1,101,5)"
      ],
      "metadata": {
        "colab": {
          "base_uri": "https://localhost:8080/"
        },
        "id": "GjAwk8J2bkl6",
        "outputId": "e94d47c3-c662-4b1f-9389-2262e30a02e7"
      },
      "execution_count": 16,
      "outputs": [
        {
          "output_type": "execute_result",
          "data": {
            "text/plain": [
              "[2,\n",
              " 4,\n",
              " 6,\n",
              " 8,\n",
              " 10,\n",
              " 12,\n",
              " 14,\n",
              " 16,\n",
              " 18,\n",
              " 20,\n",
              " 22,\n",
              " 24,\n",
              " 26,\n",
              " 28,\n",
              " 30,\n",
              " 32,\n",
              " 34,\n",
              " 36,\n",
              " 38,\n",
              " 40,\n",
              " 42,\n",
              " 44,\n",
              " 46,\n",
              " 48,\n",
              " 50,\n",
              " 52,\n",
              " 54,\n",
              " 56,\n",
              " 58,\n",
              " 60,\n",
              " 62,\n",
              " 64,\n",
              " 66,\n",
              " 68,\n",
              " 70,\n",
              " 72,\n",
              " 74,\n",
              " 76,\n",
              " 78,\n",
              " 80,\n",
              " 82,\n",
              " 84,\n",
              " 86,\n",
              " 88,\n",
              " 90,\n",
              " 92,\n",
              " 94,\n",
              " 96,\n",
              " 98]"
            ]
          },
          "metadata": {},
          "execution_count": 16
        }
      ]
    },
    {
      "cell_type": "code",
      "source": [
        "import numpy as np"
      ],
      "metadata": {
        "id": "c7TNAOYugK4N"
      },
      "execution_count": 18,
      "outputs": []
    },
    {
      "cell_type": "code",
      "source": [
        "np.random.randint(1,101,5)"
      ],
      "metadata": {
        "colab": {
          "base_uri": "https://localhost:8080/"
        },
        "id": "_cOGiW-pgRSN",
        "outputId": "ea895cd8-c356-493a-9ba5-36b28792b5fd"
      },
      "execution_count": 20,
      "outputs": [
        {
          "output_type": "execute_result",
          "data": {
            "text/plain": [
              "array([ 73,  76, 100,  14,  36])"
            ]
          },
          "metadata": {},
          "execution_count": 20
        }
      ]
    },
    {
      "cell_type": "code",
      "source": [
        "Par=np.random.randint(1,10,100)\n",
        "Par"
      ],
      "metadata": {
        "colab": {
          "base_uri": "https://localhost:8080/"
        },
        "id": "C2a8pXGShWek",
        "outputId": "ee75efb1-cb98-4d43-9f99-d298c5a3395f"
      },
      "execution_count": 22,
      "outputs": [
        {
          "output_type": "execute_result",
          "data": {
            "text/plain": [
              "array([8, 8, 9, 8, 8, 5, 6, 8, 8, 6, 9, 1, 7, 7, 6, 8, 5, 6, 4, 5, 6, 7,\n",
              "       4, 6, 3, 1, 5, 5, 3, 4, 7, 6, 2, 6, 1, 8, 6, 8, 3, 3, 8, 4, 9, 2,\n",
              "       3, 7, 8, 8, 1, 6, 8, 1, 1, 3, 2, 7, 8, 1, 8, 8, 3, 1, 1, 4, 2, 2,\n",
              "       7, 2, 6, 5, 8, 1, 8, 1, 1, 3, 3, 8, 5, 2, 7, 7, 2, 7, 8, 5, 4, 7,\n",
              "       1, 2, 5, 1, 8, 3, 5, 9, 9, 8, 3, 2])"
            ]
          },
          "metadata": {},
          "execution_count": 22
        }
      ]
    },
    {
      "cell_type": "code",
      "source": [
        "P =[i for i in Par if i%2==0]\n",
        "P"
      ],
      "metadata": {
        "colab": {
          "base_uri": "https://localhost:8080/"
        },
        "id": "PIdGhvbljuvo",
        "outputId": "afd44156-3994-4684-a249-39fc0c9fd9e8"
      },
      "execution_count": 23,
      "outputs": [
        {
          "output_type": "execute_result",
          "data": {
            "text/plain": [
              "[8,\n",
              " 8,\n",
              " 8,\n",
              " 8,\n",
              " 6,\n",
              " 8,\n",
              " 8,\n",
              " 6,\n",
              " 6,\n",
              " 8,\n",
              " 6,\n",
              " 4,\n",
              " 6,\n",
              " 4,\n",
              " 6,\n",
              " 4,\n",
              " 6,\n",
              " 2,\n",
              " 6,\n",
              " 8,\n",
              " 6,\n",
              " 8,\n",
              " 8,\n",
              " 4,\n",
              " 2,\n",
              " 8,\n",
              " 8,\n",
              " 6,\n",
              " 8,\n",
              " 2,\n",
              " 8,\n",
              " 8,\n",
              " 8,\n",
              " 4,\n",
              " 2,\n",
              " 2,\n",
              " 2,\n",
              " 6,\n",
              " 8,\n",
              " 8,\n",
              " 8,\n",
              " 2,\n",
              " 2,\n",
              " 8,\n",
              " 4,\n",
              " 2,\n",
              " 8,\n",
              " 8,\n",
              " 2]"
            ]
          },
          "metadata": {},
          "execution_count": 23
        }
      ]
    }
  ]
}