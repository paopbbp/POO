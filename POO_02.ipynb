{
  "nbformat": 4,
  "nbformat_minor": 0,
  "metadata": {
    "colab": {
      "provenance": []
    },
    "kernelspec": {
      "name": "python3",
      "display_name": "Python 3"
    },
    "language_info": {
      "name": "python"
    }
  },
  "cells": [
    {
      "cell_type": "code",
      "source": [
        "def Area (b,l):\n",
        "  A= ((b*l)/2)\n",
        "  return A"
      ],
      "metadata": {
        "id": "p7jGG-JScIKe"
      },
      "execution_count": 25,
      "outputs": []
    },
    {
      "cell_type": "code",
      "source": [
        "def Perimetro (b,l):\n",
        "  p=(b*2)+l\n",
        "  return p"
      ],
      "metadata": {
        "id": "7iDeFAFgbmpe"
      },
      "execution_count": 17,
      "outputs": []
    },
    {
      "cell_type": "code",
      "source": [
        "Area(9,8)"
      ],
      "metadata": {
        "colab": {
          "base_uri": "https://localhost:8080/"
        },
        "id": "py2FKPYFZolB",
        "outputId": "86d028eb-0151-4137-bfcc-b2fd5e1ed242"
      },
      "execution_count": 4,
      "outputs": [
        {
          "output_type": "execute_result",
          "data": {
            "text/plain": [
              "4.5"
            ]
          },
          "metadata": {},
          "execution_count": 4
        }
      ]
    },
    {
      "cell_type": "code",
      "source": [
        "Perimetro(7,3)"
      ],
      "metadata": {
        "colab": {
          "base_uri": "https://localhost:8080/"
        },
        "id": "35lLkoBTawtm",
        "outputId": "8fe38013-b387-4a52-e469-9887f159532b"
      },
      "execution_count": 19,
      "outputs": [
        {
          "output_type": "execute_result",
          "data": {
            "text/plain": [
              "17"
            ]
          },
          "metadata": {},
          "execution_count": 19
        }
      ]
    },
    {
      "cell_type": "code",
      "source": [
        "def num(x):\n",
        "  numpar=x%2\n",
        "  return numpar"
      ],
      "metadata": {
        "id": "wl4NaZYMco1O"
      },
      "execution_count": 28,
      "outputs": []
    },
    {
      "cell_type": "code",
      "source": [
        "num(8765443)"
      ],
      "metadata": {
        "colab": {
          "base_uri": "https://localhost:8080/"
        },
        "id": "Cfy_zYz3bkSO",
        "outputId": "069f2cc8-048c-49ee-d3a6-99b2f54e34a4"
      },
      "execution_count": 30,
      "outputs": [
        {
          "output_type": "execute_result",
          "data": {
            "text/plain": [
              "1"
            ]
          },
          "metadata": {},
          "execution_count": 30
        }
      ]
    },
    {
      "cell_type": "code",
      "source": [
        "x=4566754\n",
        "\n",
        "if (num(x)==0):\n",
        "  print(\"par\")\n",
        "else:\n",
        "  print(\"impar\")"
      ],
      "metadata": {
        "colab": {
          "base_uri": "https://localhost:8080/"
        },
        "id": "jCWj43Vghx7c",
        "outputId": "c08f0140-f839-4b47-9609-7f9c6f42e95a"
      },
      "execution_count": 31,
      "outputs": [
        {
          "output_type": "stream",
          "name": "stdout",
          "text": [
            "par\n"
          ]
        }
      ]
    },
    {
      "cell_type": "code",
      "source": [
        "\n",
        "def es_perfecto(n):\n",
        "\n",
        "  divisores = [1]\n",
        "  for i in range(2, int(n**0.5) + 1):\n",
        "    if n % i == 0:\n",
        "      divisores.append(i)\n",
        "      divisores.append(n // i)\n",
        "  return sum(divisores) == n\n",
        "\n",
        "numero = 6\n",
        "\n",
        "if es_perfecto(numero):\n",
        "  print(f\"El número {numero} es perfecto\")\n",
        "else:\n",
        "  print(f\"El número {numero} no es perfecto\")\n"
      ],
      "metadata": {
        "colab": {
          "base_uri": "https://localhost:8080/"
        },
        "id": "QGxmmIw3iWX8",
        "outputId": "88af6eb7-ff5a-4aa8-cd1e-ec06bf17265b"
      },
      "execution_count": 35,
      "outputs": [
        {
          "output_type": "stream",
          "name": "stdout",
          "text": [
            "El número 6 es perfecto\n"
          ]
        }
      ]
    }
  ]
}