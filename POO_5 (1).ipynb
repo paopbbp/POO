{
  "nbformat": 4,
  "nbformat_minor": 0,
  "metadata": {
    "colab": {
      "provenance": []
    },
    "kernelspec": {
      "name": "python3",
      "display_name": "Python 3"
    },
    "language_info": {
      "name": "python"
    }
  },
  "cells": [
    {
      "cell_type": "markdown",
      "source": [
        "Matrices"
      ],
      "metadata": {
        "id": "VCQChmTPns7e"
      }
    },
    {
      "cell_type": "code",
      "source": [
        "import numpy as np"
      ],
      "metadata": {
        "id": "52935nCaoL9F"
      },
      "execution_count": 1,
      "outputs": []
    },
    {
      "cell_type": "code",
      "source": [
        "np.random.seed(1)\n",
        "np.random.randint(1,21,size=15)"
      ],
      "metadata": {
        "colab": {
          "base_uri": "https://localhost:8080/"
        },
        "id": "XXv8MyU6oUzk",
        "outputId": "81d9d145-bcd1-47f7-e76e-20780a3aa990"
      },
      "execution_count": 6,
      "outputs": [
        {
          "output_type": "execute_result",
          "data": {
            "text/plain": [
              "array([ 6, 12, 13,  9, 10, 12,  6, 16,  1, 17,  2, 13,  8, 14,  7])"
            ]
          },
          "metadata": {},
          "execution_count": 6
        }
      ]
    },
    {
      "cell_type": "code",
      "execution_count": 11,
      "metadata": {
        "colab": {
          "base_uri": "https://localhost:8080/"
        },
        "id": "pQ9hPYRgnovl",
        "outputId": "e0f5a4a3-0c46-456e-cc35-2fe645c80bb6"
      },
      "outputs": [
        {
          "output_type": "execute_result",
          "data": {
            "text/plain": [
              "[2, 2, 6, 6, 8, 8, 8, 8, 8, 8, 10, 10, 14, 14, 14, 16, 18, 18, 20]"
            ]
          },
          "metadata": {},
          "execution_count": 11
        }
      ],
      "source": [
        "\n",
        "L= [i for i in np.random.randint(1,21,size=40) if i%2==0 ]\n",
        "L.sort()\n",
        "L"
      ]
    },
    {
      "cell_type": "code",
      "source": [
        "L.pop(3)"
      ],
      "metadata": {
        "colab": {
          "base_uri": "https://localhost:8080/"
        },
        "id": "5K2pc6afugOB",
        "outputId": "1005482a-8f85-452a-cec5-f9a589923c88"
      },
      "execution_count": 13,
      "outputs": [
        {
          "output_type": "execute_result",
          "data": {
            "text/plain": [
              "6"
            ]
          },
          "metadata": {},
          "execution_count": 13
        }
      ]
    },
    {
      "cell_type": "code",
      "source": [
        "L_arreglo=np.array(L)\n",
        "L_arreglo"
      ],
      "metadata": {
        "colab": {
          "base_uri": "https://localhost:8080/"
        },
        "id": "v33PLeJDwfgu",
        "outputId": "5c8d219c-0a33-4edc-90bd-32e460fd5183"
      },
      "execution_count": 14,
      "outputs": [
        {
          "output_type": "execute_result",
          "data": {
            "text/plain": [
              "array([ 2,  2,  6,  8,  8,  8,  8,  8,  8, 10, 10, 14, 14, 14, 16, 18, 18])"
            ]
          },
          "metadata": {},
          "execution_count": 14
        }
      ]
    },
    {
      "cell_type": "code",
      "source": [
        "from os import remove\n"
      ],
      "metadata": {
        "id": "1EoPwd-k0Tzy"
      },
      "execution_count": 18,
      "outputs": []
    },
    {
      "cell_type": "code",
      "source": [
        "len(L_arreglo)"
      ],
      "metadata": {
        "colab": {
          "base_uri": "https://localhost:8080/"
        },
        "id": "VB2x4UuQxsAl",
        "outputId": "242511ae-912d-4d26-b0e9-1c2d65a09e0d"
      },
      "execution_count": 22,
      "outputs": [
        {
          "output_type": "execute_result",
          "data": {
            "text/plain": [
              "17"
            ]
          },
          "metadata": {},
          "execution_count": 22
        }
      ]
    },
    {
      "cell_type": "code",
      "source": [
        "L_arreglo.reshape(17,1)"
      ],
      "metadata": {
        "colab": {
          "base_uri": "https://localhost:8080/"
        },
        "id": "jEPooOlGz6eS",
        "outputId": "9b6937a1-d5c3-443a-f6f2-f61e9c6b86c6"
      },
      "execution_count": 19,
      "outputs": [
        {
          "output_type": "execute_result",
          "data": {
            "text/plain": [
              "array([[ 2],\n",
              "       [ 2],\n",
              "       [ 6],\n",
              "       [ 8],\n",
              "       [ 8],\n",
              "       [ 8],\n",
              "       [ 8],\n",
              "       [ 8],\n",
              "       [ 8],\n",
              "       [10],\n",
              "       [10],\n",
              "       [14],\n",
              "       [14],\n",
              "       [14],\n",
              "       [16],\n",
              "       [18],\n",
              "       [18]])"
            ]
          },
          "metadata": {},
          "execution_count": 19
        }
      ]
    },
    {
      "cell_type": "code",
      "source": [
        "M_matriz=np.array([2,3,14,19,13,0,2,25,6,9]).reshape(5,2)\n",
        "M_matriz"
      ],
      "metadata": {
        "colab": {
          "base_uri": "https://localhost:8080/"
        },
        "id": "-rGstCei0uRq",
        "outputId": "8f26aaca-3b9f-499a-b3b4-77edec9cd8cd"
      },
      "execution_count": 27,
      "outputs": [
        {
          "output_type": "execute_result",
          "data": {
            "text/plain": [
              "array([[ 2,  3],\n",
              "       [14, 19],\n",
              "       [13,  0],\n",
              "       [ 2, 25],\n",
              "       [ 6,  9]])"
            ]
          },
          "metadata": {},
          "execution_count": 27
        }
      ]
    },
    {
      "cell_type": "code",
      "source": [
        "L_matriz @ M_matiz"
      ],
      "metadata": {
        "colab": {
          "base_uri": "https://localhost:8080/",
          "height": 175
        },
        "id": "zF2v0L4p1fBR",
        "outputId": "68bd584a-98cc-4946-ba06-46fe0b36be82"
      },
      "execution_count": 25,
      "outputs": [
        {
          "output_type": "error",
          "ename": "NameError",
          "evalue": "name 'L_matriz' is not defined",
          "traceback": [
            "\u001b[0;31m---------------------------------------------------------------------------\u001b[0m",
            "\u001b[0;31mNameError\u001b[0m                                 Traceback (most recent call last)",
            "\u001b[0;32m<ipython-input-25-0c4d13ec52e8>\u001b[0m in \u001b[0;36m<cell line: 1>\u001b[0;34m()\u001b[0m\n\u001b[0;32m----> 1\u001b[0;31m \u001b[0mL_matriz\u001b[0m \u001b[0;34m@\u001b[0m \u001b[0mM_matiz\u001b[0m\u001b[0;34m\u001b[0m\u001b[0;34m\u001b[0m\u001b[0m\n\u001b[0m",
            "\u001b[0;31mNameError\u001b[0m: name 'L_matriz' is not defined"
          ]
        }
      ]
    },
    {
      "cell_type": "code",
      "source": [
        "L.remove(4)"
      ],
      "metadata": {
        "id": "tUURpBGJtgQK"
      },
      "execution_count": 9,
      "outputs": []
    },
    {
      "cell_type": "code",
      "source": [
        "L+[4]"
      ],
      "metadata": {
        "colab": {
          "base_uri": "https://localhost:8080/"
        },
        "id": "cqQB83SctmAG",
        "outputId": "52660538-a446-4e78-8ae3-e30572aea92f"
      },
      "execution_count": 10,
      "outputs": [
        {
          "output_type": "execute_result",
          "data": {
            "text/plain": [
              "[16, 8, 10, 8, 6, 20, 16, 16, 8, 20, 2, 18, 14, 4, 14, 12, 8, 14, 12, 12, 4]"
            ]
          },
          "metadata": {},
          "execution_count": 10
        }
      ]
    },
    {
      "cell_type": "code",
      "source": [],
      "metadata": {
        "id": "M_vgRDo7z5jj"
      },
      "execution_count": null,
      "outputs": []
    }
  ]
}