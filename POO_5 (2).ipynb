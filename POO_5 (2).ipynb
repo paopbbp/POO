{
  "nbformat": 4,
  "nbformat_minor": 0,
  "metadata": {
    "colab": {
      "provenance": []
    },
    "kernelspec": {
      "name": "python3",
      "display_name": "Python 3"
    },
    "language_info": {
      "name": "python"
    }
  },
  "cells": [
    {
      "cell_type": "markdown",
      "source": [
        "Matrices"
      ],
      "metadata": {
        "id": "VCQChmTPns7e"
      }
    },
    {
      "cell_type": "code",
      "source": [
        "import numpy as np"
      ],
      "metadata": {
        "id": "52935nCaoL9F"
      },
      "execution_count": 1,
      "outputs": []
    },
    {
      "cell_type": "code",
      "source": [
        "np.random.seed(1)\n",
        "np.random.randint(1,21,size=15)"
      ],
      "metadata": {
        "colab": {
          "base_uri": "https://localhost:8080/"
        },
        "id": "XXv8MyU6oUzk",
        "outputId": "81d9d145-bcd1-47f7-e76e-20780a3aa990"
      },
      "execution_count": 6,
      "outputs": [
        {
          "output_type": "execute_result",
          "data": {
            "text/plain": [
              "array([ 6, 12, 13,  9, 10, 12,  6, 16,  1, 17,  2, 13,  8, 14,  7])"
            ]
          },
          "metadata": {},
          "execution_count": 6
        }
      ]
    },
    {
      "cell_type": "code",
      "execution_count": 11,
      "metadata": {
        "colab": {
          "base_uri": "https://localhost:8080/"
        },
        "id": "pQ9hPYRgnovl",
        "outputId": "e0f5a4a3-0c46-456e-cc35-2fe645c80bb6"
      },
      "outputs": [
        {
          "output_type": "execute_result",
          "data": {
            "text/plain": [
              "[2, 2, 6, 6, 8, 8, 8, 8, 8, 8, 10, 10, 14, 14, 14, 16, 18, 18, 20]"
            ]
          },
          "metadata": {},
          "execution_count": 11
        }
      ],
      "source": [
        "\n",
        "L= [i for i in np.random.randint(1,21,size=40) if i%2==0 ]\n",
        "L.sort()\n",
        "L"
      ]
    },
    {
      "cell_type": "code",
      "source": [
        "L.pop(3)"
      ],
      "metadata": {
        "colab": {
          "base_uri": "https://localhost:8080/"
        },
        "id": "5K2pc6afugOB",
        "outputId": "1005482a-8f85-452a-cec5-f9a589923c88"
      },
      "execution_count": 13,
      "outputs": [
        {
          "output_type": "execute_result",
          "data": {
            "text/plain": [
              "6"
            ]
          },
          "metadata": {},
          "execution_count": 13
        }
      ]
    },
    {
      "cell_type": "code",
      "source": [
        "L_arreglo=np.array(L)\n",
        "L_arreglo"
      ],
      "metadata": {
        "colab": {
          "base_uri": "https://localhost:8080/"
        },
        "id": "v33PLeJDwfgu",
        "outputId": "4d9083dd-32e4-4e0e-cc26-b23a9f793c38"
      },
      "execution_count": 47,
      "outputs": [
        {
          "output_type": "execute_result",
          "data": {
            "text/plain": [
              "array([ 2,  2,  6,  8,  8,  8,  8,  8,  8, 10, 10, 14, 14, 14, 16, 18, 18])"
            ]
          },
          "metadata": {},
          "execution_count": 47
        }
      ]
    },
    {
      "cell_type": "code",
      "source": [
        "len(L_arreglo)"
      ],
      "metadata": {
        "colab": {
          "base_uri": "https://localhost:8080/"
        },
        "id": "VB2x4UuQxsAl",
        "outputId": "d5023af7-c69a-482d-a5b8-e26bef565983"
      },
      "execution_count": 48,
      "outputs": [
        {
          "output_type": "execute_result",
          "data": {
            "text/plain": [
              "17"
            ]
          },
          "metadata": {},
          "execution_count": 48
        }
      ]
    },
    {
      "cell_type": "code",
      "source": [
        "L_matriz = L_arreglo.reshape(17,1)\n",
        "L_matriz"
      ],
      "metadata": {
        "colab": {
          "base_uri": "https://localhost:8080/"
        },
        "id": "jEPooOlGz6eS",
        "outputId": "b577a38b-8c49-4ae8-ba65-faf9e31f4f0b"
      },
      "execution_count": 51,
      "outputs": [
        {
          "output_type": "execute_result",
          "data": {
            "text/plain": [
              "array([[ 2],\n",
              "       [ 2],\n",
              "       [ 6],\n",
              "       [ 8],\n",
              "       [ 8],\n",
              "       [ 8],\n",
              "       [ 8],\n",
              "       [ 8],\n",
              "       [ 8],\n",
              "       [10],\n",
              "       [10],\n",
              "       [14],\n",
              "       [14],\n",
              "       [14],\n",
              "       [16],\n",
              "       [18],\n",
              "       [18]])"
            ]
          },
          "metadata": {},
          "execution_count": 51
        }
      ]
    },
    {
      "cell_type": "code",
      "source": [
        "M_matriz=np.array([2,3,1,4,5,3,8,3,7,0,12,14,25,26,23,28,89,]).reshape(1,17)\n",
        "M_matriz"
      ],
      "metadata": {
        "colab": {
          "base_uri": "https://localhost:8080/"
        },
        "id": "-rGstCei0uRq",
        "outputId": "5f3caf7f-1f17-45f6-a029-83b474c8e3f7"
      },
      "execution_count": 54,
      "outputs": [
        {
          "output_type": "execute_result",
          "data": {
            "text/plain": [
              "array([[ 2,  3,  1,  4,  5,  3,  8,  3,  7,  0, 12, 14, 25, 26, 23, 28,\n",
              "        89]])"
            ]
          },
          "metadata": {},
          "execution_count": 54
        }
      ]
    },
    {
      "cell_type": "code",
      "source": [
        "n= L_matriz @ M_matriz\n",
        "n"
      ],
      "metadata": {
        "colab": {
          "base_uri": "https://localhost:8080/"
        },
        "id": "zF2v0L4p1fBR",
        "outputId": "7f141599-106e-44dd-ebad-72abd17eb9c3"
      },
      "execution_count": 55,
      "outputs": [
        {
          "output_type": "execute_result",
          "data": {
            "text/plain": [
              "array([[   4,    6,    2,    8,   10,    6,   16,    6,   14,    0,   24,\n",
              "          28,   50,   52,   46,   56,  178],\n",
              "       [   4,    6,    2,    8,   10,    6,   16,    6,   14,    0,   24,\n",
              "          28,   50,   52,   46,   56,  178],\n",
              "       [  12,   18,    6,   24,   30,   18,   48,   18,   42,    0,   72,\n",
              "          84,  150,  156,  138,  168,  534],\n",
              "       [  16,   24,    8,   32,   40,   24,   64,   24,   56,    0,   96,\n",
              "         112,  200,  208,  184,  224,  712],\n",
              "       [  16,   24,    8,   32,   40,   24,   64,   24,   56,    0,   96,\n",
              "         112,  200,  208,  184,  224,  712],\n",
              "       [  16,   24,    8,   32,   40,   24,   64,   24,   56,    0,   96,\n",
              "         112,  200,  208,  184,  224,  712],\n",
              "       [  16,   24,    8,   32,   40,   24,   64,   24,   56,    0,   96,\n",
              "         112,  200,  208,  184,  224,  712],\n",
              "       [  16,   24,    8,   32,   40,   24,   64,   24,   56,    0,   96,\n",
              "         112,  200,  208,  184,  224,  712],\n",
              "       [  16,   24,    8,   32,   40,   24,   64,   24,   56,    0,   96,\n",
              "         112,  200,  208,  184,  224,  712],\n",
              "       [  20,   30,   10,   40,   50,   30,   80,   30,   70,    0,  120,\n",
              "         140,  250,  260,  230,  280,  890],\n",
              "       [  20,   30,   10,   40,   50,   30,   80,   30,   70,    0,  120,\n",
              "         140,  250,  260,  230,  280,  890],\n",
              "       [  28,   42,   14,   56,   70,   42,  112,   42,   98,    0,  168,\n",
              "         196,  350,  364,  322,  392, 1246],\n",
              "       [  28,   42,   14,   56,   70,   42,  112,   42,   98,    0,  168,\n",
              "         196,  350,  364,  322,  392, 1246],\n",
              "       [  28,   42,   14,   56,   70,   42,  112,   42,   98,    0,  168,\n",
              "         196,  350,  364,  322,  392, 1246],\n",
              "       [  32,   48,   16,   64,   80,   48,  128,   48,  112,    0,  192,\n",
              "         224,  400,  416,  368,  448, 1424],\n",
              "       [  36,   54,   18,   72,   90,   54,  144,   54,  126,    0,  216,\n",
              "         252,  450,  468,  414,  504, 1602],\n",
              "       [  36,   54,   18,   72,   90,   54,  144,   54,  126,    0,  216,\n",
              "         252,  450,  468,  414,  504, 1602]])"
            ]
          },
          "metadata": {},
          "execution_count": 55
        }
      ]
    },
    {
      "cell_type": "code",
      "source": [
        "L.remove(4)"
      ],
      "metadata": {
        "id": "tUURpBGJtgQK"
      },
      "execution_count": 9,
      "outputs": []
    },
    {
      "cell_type": "code",
      "source": [
        "L+[4]"
      ],
      "metadata": {
        "colab": {
          "base_uri": "https://localhost:8080/"
        },
        "id": "cqQB83SctmAG",
        "outputId": "52660538-a446-4e78-8ae3-e30572aea92f"
      },
      "execution_count": 10,
      "outputs": [
        {
          "output_type": "execute_result",
          "data": {
            "text/plain": [
              "[16, 8, 10, 8, 6, 20, 16, 16, 8, 20, 2, 18, 14, 4, 14, 12, 8, 14, 12, 12, 4]"
            ]
          },
          "metadata": {},
          "execution_count": 10
        }
      ]
    },
    {
      "cell_type": "code",
      "source": [],
      "metadata": {
        "id": "M_vgRDo7z5jj"
      },
      "execution_count": null,
      "outputs": []
    }
  ]
}