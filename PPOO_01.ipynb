{
  "nbformat": 4,
  "nbformat_minor": 0,
  "metadata": {
    "colab": {
      "provenance": []
    },
    "kernelspec": {
      "name": "python3",
      "display_name": "Python 3"
    },
    "language_info": {
      "name": "python"
    }
  },
  "cells": [
    {
      "cell_type": "code",
      "execution_count": null,
      "metadata": {
        "id": "dWdGUpPYifgd"
      },
      "outputs": [],
      "source": []
    },
    {
      "cell_type": "markdown",
      "source": [
        "**texto en negrita**"
      ],
      "metadata": {
        "id": "Sw682UUKleZf"
      }
    },
    {
      "cell_type": "markdown",
      "source": [
        "# Primeros objetos\n",
        "\n",
        "1. Objetos\n",
        "2. Listas\n",
        "3. Conjuntos\n",
        "\n",
        "\n"
      ],
      "metadata": {
        "id": "V8Wu8PFojWiE"
      }
    },
    {
      "cell_type": "markdown",
      "source": [
        "En Phython se pueden realizar operaciones sobre objetos .\n",
        "Además , es util para resolver un sistema de ecuaciones lineales .\n",
        "\n",
        "$$\n",
        "f(x,y)\\begin{cases}\n",
        "x+2y & =3\\\\\n",
        "2x+4y &=6\n",
        "\\end{cases}\n",
        "$$\n"
      ],
      "metadata": {
        "id": "ZEe7E1dRlhCt"
      }
    },
    {
      "cell_type": "code",
      "source": [
        "print(\"Hola Mundo!\")"
      ],
      "metadata": {
        "colab": {
          "base_uri": "https://localhost:8080/"
        },
        "id": "D4L7nS-brXv3",
        "outputId": "cbac2996-05ac-4106-c9bc-9d16dd0b4ee6"
      },
      "execution_count": 1,
      "outputs": [
        {
          "output_type": "stream",
          "name": "stdout",
          "text": [
            "Hola Mundo!\n"
          ]
        }
      ]
    },
    {
      "cell_type": "markdown",
      "source": [
        "## Primeros objetos\n",
        "\n",
        "* Números enteros.\n",
        "* Números fotantes.\n"
      ],
      "metadata": {
        "id": "qsqPG5EXr3It"
      }
    },
    {
      "cell_type": "code",
      "source": [
        "# Crear variables\n",
        "x = 3\n",
        "y=  5"
      ],
      "metadata": {
        "id": "dLBHjMq4sScd"
      },
      "execution_count": 2,
      "outputs": []
    },
    {
      "cell_type": "code",
      "source": [
        "x+y\n",
        "x-y\n",
        "x*y\n",
        "x**y\n",
        "x/y\n",
        "x//y\n",
        "x%y\n"
      ],
      "metadata": {
        "colab": {
          "base_uri": "https://localhost:8080/"
        },
        "id": "FT8jfxMPsyir",
        "outputId": "45890295-4983-4fc5-b179-e60936eda2e3"
      },
      "execution_count": 6,
      "outputs": [
        {
          "output_type": "execute_result",
          "data": {
            "text/plain": [
              "3"
            ]
          },
          "metadata": {},
          "execution_count": 6
        }
      ]
    },
    {
      "cell_type": "code",
      "source": [
        "type(x+y)"
      ],
      "metadata": {
        "colab": {
          "base_uri": "https://localhost:8080/"
        },
        "id": "DV5npgucwnX7",
        "outputId": "6ddf4cf1-002f-4981-abb0-a53f77aeb3b4"
      },
      "execution_count": 7,
      "outputs": [
        {
          "output_type": "execute_result",
          "data": {
            "text/plain": [
              "int"
            ]
          },
          "metadata": {},
          "execution_count": 7
        }
      ]
    },
    {
      "cell_type": "code",
      "source": [
        "type(x/y)\n"
      ],
      "metadata": {
        "colab": {
          "base_uri": "https://localhost:8080/"
        },
        "id": "J_nUM7yxwtEz",
        "outputId": "c4499222-b201-44b7-ab14-a569b086814e"
      },
      "execution_count": 8,
      "outputs": [
        {
          "output_type": "execute_result",
          "data": {
            "text/plain": [
              "float"
            ]
          },
          "metadata": {},
          "execution_count": 8
        }
      ]
    },
    {
      "cell_type": "code",
      "source": [],
      "metadata": {
        "id": "1OajsvqWw0bT"
      },
      "execution_count": null,
      "outputs": []
    }
  ]
}