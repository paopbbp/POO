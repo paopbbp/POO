{
  "nbformat": 4,
  "nbformat_minor": 0,
  "metadata": {
    "colab": {
      "provenance": []
    },
    "kernelspec": {
      "name": "python3",
      "display_name": "Python 3"
    },
    "language_info": {
      "name": "python"
    }
  },
  "cells": [
    {
      "cell_type": "code",
      "execution_count": 4,
      "metadata": {
        "id": "exEG5qC0ZmHD"
      },
      "outputs": [],
      "source": [
        "class Mascota():\n",
        "  def __init__ (self):\n",
        "    print(\"Creamos una clase madre \")\n",
        "  def adivina(self):\n",
        "    print(\"Hola ,soy un perro\")\n",
        "\n",
        "  def hablar(self):\n",
        "    print(\"Ladro \")\n",
        "\n"
      ]
    },
    {
      "cell_type": "code",
      "source": [
        "mascota = Mascota()"
      ],
      "metadata": {
        "colab": {
          "base_uri": "https://localhost:8080/"
        },
        "id": "wWuinlH8dV36",
        "outputId": "0186ed73-243d-4345-99a5-5f1cc526bad3"
      },
      "execution_count": 6,
      "outputs": [
        {
          "output_type": "stream",
          "name": "stdout",
          "text": [
            "Creamos una clase madre \n"
          ]
        }
      ]
    },
    {
      "cell_type": "code",
      "source": [
        "mascota.adivina()"
      ],
      "metadata": {
        "colab": {
          "base_uri": "https://localhost:8080/"
        },
        "id": "TEmPo1BieKzY",
        "outputId": "fcd4c8da-fa9a-4501-b26a-72762e0a4bd9"
      },
      "execution_count": 7,
      "outputs": [
        {
          "output_type": "stream",
          "name": "stdout",
          "text": [
            "Hola ,soy un perro\n"
          ]
        }
      ]
    },
    {
      "cell_type": "markdown",
      "source": [
        "Crear una herenca"
      ],
      "metadata": {
        "id": "Vij1XyOFg2Vb"
      }
    },
    {
      "cell_type": "code",
      "source": [
        "class Perro(Mascota):\n",
        " def __init__(self):\n",
        "   Mascota.__init__(self)\n",
        "   print(\"Creamos una clase heredada\")\n",
        "\n",
        " def nombre(self):\n",
        "   print(\"Luna\")\n",
        "\n",
        " def idioma(self):\n",
        "    print(\"WUAF\")\n"
      ],
      "metadata": {
        "id": "UzF3bfSjg9e-"
      },
      "execution_count": 14,
      "outputs": []
    },
    {
      "cell_type": "code",
      "source": [
        "perro= Perro() #Llamamos a la clase heredada"
      ],
      "metadata": {
        "colab": {
          "base_uri": "https://localhost:8080/"
        },
        "id": "aEuaXw_BjxQ1",
        "outputId": "b131104b-818d-4a06-f738-e21728336cf7"
      },
      "execution_count": 15,
      "outputs": [
        {
          "output_type": "stream",
          "name": "stdout",
          "text": [
            "Creamos una clase madre \n",
            "Creamos una clase heredada\n"
          ]
        }
      ]
    },
    {
      "cell_type": "code",
      "source": [
        " mascota.adivina()"
      ],
      "metadata": {
        "colab": {
          "base_uri": "https://localhost:8080/"
        },
        "id": "quxZ7Thfle4i",
        "outputId": "04c948bf-a844-4db6-9082-c05368f3c5b2"
      },
      "execution_count": 16,
      "outputs": [
        {
          "output_type": "stream",
          "name": "stdout",
          "text": [
            "Hola ,soy un perro\n"
          ]
        }
      ]
    },
    {
      "cell_type": "code",
      "source": [
        "perro.adivina()"
      ],
      "metadata": {
        "colab": {
          "base_uri": "https://localhost:8080/"
        },
        "id": "64WtMU3gls0x",
        "outputId": "49b23e9b-c33d-48c7-d879-c13f47f9e7d0"
      },
      "execution_count": 17,
      "outputs": [
        {
          "output_type": "stream",
          "name": "stdout",
          "text": [
            "Hola ,soy un perro\n"
          ]
        }
      ]
    },
    {
      "cell_type": "code",
      "source": [
        "perro.idioma()"
      ],
      "metadata": {
        "colab": {
          "base_uri": "https://localhost:8080/"
        },
        "id": "qfkRZQQSmUjR",
        "outputId": "713bc7f1-cad2-4d77-9baf-638ff34f22e7"
      },
      "execution_count": 18,
      "outputs": [
        {
          "output_type": "stream",
          "name": "stdout",
          "text": [
            "WUAF\n"
          ]
        }
      ]
    },
    {
      "cell_type": "code",
      "source": [
        "class Hobbies():\n",
        "  def __init__ (self):\n",
        "    print(\"Cuales son mis hobbies \")\n",
        "  def adivina(self):\n",
        "    print(\"me encanta bailar\")\n",
        "\n",
        "  def hablar(self):\n",
        "    print(\"vamos equipo \")"
      ],
      "metadata": {
        "id": "PtjLm24YoDFV"
      },
      "execution_count": 19,
      "outputs": []
    },
    {
      "cell_type": "code",
      "source": [],
      "metadata": {
        "id": "BkRdZtTUns5X"
      },
      "execution_count": null,
      "outputs": []
    }
  ]
}