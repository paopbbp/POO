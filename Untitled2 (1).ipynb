{
  "nbformat": 4,
  "nbformat_minor": 0,
  "metadata": {
    "colab": {
      "provenance": []
    },
    "kernelspec": {
      "name": "python3",
      "display_name": "Python 3"
    },
    "language_info": {
      "name": "python"
    }
  },
  "cells": [
    {
      "cell_type": "code",
      "execution_count": null,
      "metadata": {
        "id": "3ehpr3iajG2R"
      },
      "outputs": [],
      "source": [
        "Vas a hacer una clase Frotmulas:Heredadas atributos definiciones :\n",
        "Áreas ,perimetros de triangulos equilateros\n",
        "reciba una lista de 16 elmentos ,la transforme en una matriz de 4x4\n",
        "funcion que calcule el determinante (np.linalg.det(A))"
      ]
    },
    {
      "cell_type": "code",
      "source": [
        "import math\n",
        "\n",
        "class Formulas:\n",
        "\n",
        "    def area_triangulo_equilatero(self, lado):\n",
        "        return (math.sqrt(3) / 4) * lado ** 2\n",
        "\n",
        "    def perimetro_triangulo_equilatero(self, lado):\n",
        "        return 3 * lado\n",
        "\n",
        "class TrianguloEquilatero(Formulas):\n",
        "\n",
        "    def __init__(self, lado):\n",
        "        self.lado = lado\n",
        "\n",
        "    def obtener_area(self):\n",
        "        return self.area_triangulo_equilatero(self.lado)\n",
        "\n",
        "    def obtener_perimetro(self):\n",
        "        return self.perimetro_triangulo_equilatero(self.lado)\n",
        "\n",
        "# Ejemplo de uso\n",
        "\n",
        "triangulo = TrianguloEquilatero(5)\n",
        "\n",
        "print(\"Área del triángulo equilátero:\", triangulo.obtener_area())\n",
        "print(\"Perímetro del triángulo equilátero:\", triangulo.obtener_perimetro())\n"
      ],
      "metadata": {
        "colab": {
          "base_uri": "https://localhost:8080/"
        },
        "id": "NzHFcJmHBEhN",
        "outputId": "fb38a47e-975f-46f6-d394-87d9da77d443"
      },
      "execution_count": 47,
      "outputs": [
        {
          "output_type": "stream",
          "name": "stdout",
          "text": [
            "Área del triángulo equilátero: 10.825317547305483\n",
            "Perímetro del triángulo equilátero: 15\n"
          ]
        }
      ]
    },
    {
      "cell_type": "code",
      "source": [
        "import numpy as np\n",
        "arreglo=np.random.randint(6,59,16)\n",
        "arreglo"
      ],
      "metadata": {
        "colab": {
          "base_uri": "https://localhost:8080/"
        },
        "id": "xnMSn19j-PiY",
        "outputId": "35252b23-d539-4493-86b8-622efaf4914c"
      },
      "execution_count": 36,
      "outputs": [
        {
          "output_type": "execute_result",
          "data": {
            "text/plain": [
              "array([30, 21, 35,  8, 35, 37, 21, 29, 46, 47, 55,  6, 19, 31,  9, 41])"
            ]
          },
          "metadata": {},
          "execution_count": 36
        }
      ]
    },
    {
      "cell_type": "code",
      "source": [
        "matriz=np.reshape(arreglo,(4,4))\n",
        "matriz"
      ],
      "metadata": {
        "colab": {
          "base_uri": "https://localhost:8080/"
        },
        "id": "aBFIliVE-nmx",
        "outputId": "dccb6f60-5af9-48ac-af5b-454ab2af54a6"
      },
      "execution_count": 37,
      "outputs": [
        {
          "output_type": "execute_result",
          "data": {
            "text/plain": [
              "array([[30, 21, 35,  8],\n",
              "       [35, 37, 21, 29],\n",
              "       [46, 47, 55,  6],\n",
              "       [19, 31,  9, 41]])"
            ]
          },
          "metadata": {},
          "execution_count": 37
        }
      ]
    },
    {
      "cell_type": "code",
      "source": [
        "determinante=np.linalg.det(matriz)\n",
        "transpuesta=matriz.T"
      ],
      "metadata": {
        "id": "xRjVWhik_MSA"
      },
      "execution_count": 38,
      "outputs": []
    },
    {
      "cell_type": "code",
      "source": [
        "determinante"
      ],
      "metadata": {
        "colab": {
          "base_uri": "https://localhost:8080/"
        },
        "id": "LEWaIwne_sZf",
        "outputId": "50f30868-62c2-4631-e17e-65963152e39e"
      },
      "execution_count": 39,
      "outputs": [
        {
          "output_type": "execute_result",
          "data": {
            "text/plain": [
              "240556.00000000006"
            ]
          },
          "metadata": {},
          "execution_count": 39
        }
      ]
    },
    {
      "cell_type": "code",
      "source": [
        "transpuesta"
      ],
      "metadata": {
        "colab": {
          "base_uri": "https://localhost:8080/"
        },
        "id": "qQwOAtKS_v4Z",
        "outputId": "0b58da65-853b-4a25-8cce-9370bc5b93a0"
      },
      "execution_count": 40,
      "outputs": [
        {
          "output_type": "execute_result",
          "data": {
            "text/plain": [
              "array([[30, 35, 46, 19],\n",
              "       [21, 37, 47, 31],\n",
              "       [35, 21, 55,  9],\n",
              "       [ 8, 29,  6, 41]])"
            ]
          },
          "metadata": {},
          "execution_count": 40
        }
      ]
    }
  ]
}